{
 "cells": [
  {
   "cell_type": "code",
   "execution_count": 1,
   "id": "1eb74cde-5275-4feb-910e-3371204260ad",
   "metadata": {},
   "outputs": [
    {
     "name": "stderr",
     "output_type": "stream",
     "text": [
      "2023-04-09 01:17:33.500347: I tensorflow/core/util/util.cc:169] oneDNN custom operations are on. You may see slightly different numerical results due to floating-point round-off errors from different computation orders. To turn them off, set the environment variable `TF_ENABLE_ONEDNN_OPTS=0`.\n"
     ]
    }
   ],
   "source": [
    "import numpy as np\n",
    "from sklearn.feature_extraction.text import CountVectorizer\n",
    "import pandas as pd\n",
    "from sklearn.metrics import mean_squared_error\n",
    "from math import sqrt\n",
    "from sklearn.model_selection import train_test_split\n",
    "from tensorflow.keras.models import Sequential\n",
    "from tensorflow.keras.layers import Dense, Dropout, Concatenate\n",
    "import matplotlib.pyplot as plt\n",
    "from tensorflow.keras.optimizers import Adam\n",
    "from tensorflow import cast,float32\n",
    "from keras import backend as kb\n",
    "from statistics import mean, stdev\n",
    "from sklearn.ensemble import RandomForestRegressor\n",
    "from sklearn.decomposition import PCA\n",
    "from tensorflow.keras import Input, Model\n",
    "from sklearn.neighbors import KNeighborsRegressor\n",
    "from sklearn.linear_model import Ridge, Lasso, LinearRegression\n",
    "from sklearn.svm import SVR"
   ]
  },
  {
   "cell_type": "code",
   "execution_count": 2,
   "id": "5b8f5f65-df00-4d51-a09e-edbefa828e8a",
   "metadata": {},
   "outputs": [],
   "source": [
    "import warnings\n",
    "warnings.filterwarnings(\"ignore\")"
   ]
  },
  {
   "cell_type": "code",
   "execution_count": 3,
   "id": "7dc95791-af08-4b2b-8420-54e8fe124388",
   "metadata": {},
   "outputs": [],
   "source": [
    "class Preprocessing():\n",
    "    def __init__(self,k_size=6):\n",
    "        self.k_size = k_size\n",
    "        kmers = self.generate_kmers(\"\",self.k_size)\n",
    "        self.vectorizer = CountVectorizer(vocabulary = kmers)\n",
    "        self.seqs = []\n",
    "    \n",
    "    def generate_kmers(self,current_kmer,current_depth):\n",
    "        if current_depth == 1:\n",
    "            return [current_kmer+\"a\",current_kmer+\"t\",current_kmer+\"c\",current_kmer+\"g\"]\n",
    "        else:\n",
    "            ret = self.generate_kmers(current_kmer+\"a\",current_depth-1)\n",
    "            for nt in ['t','c','g']:\n",
    "                ret += self.generate_kmers(current_kmer+nt,current_depth-1)\n",
    "            return ret\n",
    "    \n",
    "    def generate_kmer_multiple(self,seqlist,k):\n",
    "        kmer_list = []\n",
    "        n = -1\n",
    "        for seq in seqlist:\n",
    "            kmer_list.append(self.generate_kmer_single(str(seq),k))\n",
    "        return kmer_list\n",
    "    \n",
    "    def generate_kmer_single(self,seq,k):\n",
    "        kmer = \"\"\n",
    "        for i in range(0,len(seq)-k,1):\n",
    "            kmer += seq[i:i+k]+\" \"\n",
    "        return kmer[:-1]\n",
    "    \n",
    "    def CountKmers(self,seqs):\n",
    "        if type(seqs) in [type([]),type(pd.core.series.Series([1]))]:\n",
    "            kmer = self.generate_kmer_multiple(seqs, self.k_size)\n",
    "            transformed_X = self.vectorizer.transform(kmer).toarray()\n",
    "            return transformed_X\n",
    "        else:\n",
    "            raise ValueError(\"\"\"Invalid 'seqs' format.\n",
    "            Expected formats are 'list' or 'pandas.core.series.Series'.\"\"\")\n",
    "            \n",
    "    def ReadFASTA(self,filename,as_pd=True):\n",
    "        if filename.split(\".\")[-1] not in [\"fasta\",\"fna\",\"fa\"]:\n",
    "            raise ValueError('Invalid file format. Expected formats are [\"fasta\",\"fna\",\"fa\"].')\n",
    "        file_handle = open(filename,\"r\")\n",
    "        seqs = []\n",
    "        seqid = []\n",
    "        tmp_seq = \"\"\n",
    "        for line in file_handle:\n",
    "            if (line[0] == \">\"):\n",
    "                if tmp_seq != \"\":\n",
    "                    seqs.append(tmp_seq)\n",
    "                seqid.append(line.split(\"\\n\")[0][1:])\n",
    "                tmp_seq = \"\"\n",
    "            else:\n",
    "                tmp_seq+=line.split(\"\\n\")[0]\n",
    "        seqs.append(tmp_seq)\n",
    "        file_handle.close()\n",
    "        if as_pd:\n",
    "            fasta = {}\n",
    "            for i in range(len(seqs)):\n",
    "                fasta[seqid[i]] = seqs[i]\n",
    "            return pd.DataFrame(fasta,index=[\"sequence\"]).transpose()[\"sequence\"]\n",
    "        else:\n",
    "            return seqs, seqid"
   ]
  },
  {
   "cell_type": "code",
   "execution_count": 5,
   "id": "39b93cb5-2269-40ef-8906-6cfa20f18dd0",
   "metadata": {},
   "outputs": [],
   "source": [
    "def split_test_train(da,multiplicand):\n",
    "    pp = Preprocessing()\n",
    "    for i in range(0,5,1):\n",
    "        X_test = da[\"sequence\"].loc[i*multiplicand:(i+1)*multiplicand]\n",
    "        Y_test = da[\"copy_number\"].loc[i*multiplicand:(i+1)*multiplicand]\n",
    "        X_train = pd.concat([da[\"sequence\"].loc[0:i*multiplicand],\n",
    "                             da[\"sequence\"].loc[(i+1)*multiplicand:]],axis = 0)\n",
    "        Y_train = pd.concat([da[\"copy_number\"].loc[0:i*multiplicand],\n",
    "                             da[\"copy_number\"].loc[(i+1)*multiplicand:]],axis = 0)\n",
    "        X_train = pp.CountKmers(seqs=X_train)\n",
    "        X_test = pp.CountKmers(seqs=X_test)\n",
    "        pd.DataFrame(X_train).to_csv(\"datasets/splits/X_train_{}.csv\".format(str(i)),index=False)\n",
    "        pd.DataFrame(Y_train).to_csv(\"datasets/splits/Y_train_{}.csv\".format(str(i)),index=False)\n",
    "        pd.DataFrame(X_test).to_csv(\"datasets/splits/X_test_{}.csv\".format(str(i)),index=False)\n",
    "        pd.DataFrame(Y_test).to_csv(\"datasets/splits/Y_test_{}.csv\".format(str(i)),index=False)\n",
    "    return"
   ]
  },
  {
   "cell_type": "code",
   "execution_count": 6,
   "id": "a6ae5b82-1be0-40b8-88b1-08e99f3965c7",
   "metadata": {},
   "outputs": [],
   "source": [
    "da = pd.read_csv(\"datasets/full_length_reads.csv\")\n",
    "multiplicand = int(da.shape[0]*0.2)\n",
    "# split_test_train(da,multiplicand)"
   ]
  },
  {
   "cell_type": "code",
   "execution_count": 7,
   "id": "d43acf74-447b-47a3-9e64-3fc4dc4d2a9d",
   "metadata": {},
   "outputs": [],
   "source": [
    "pp = Preprocessing()\n",
    "da1 = pd.read_csv(\"datasets/full_length_testdata.filtered.csv\")\n",
    "X0 = da[\"sequence\"]\n",
    "Y0 = da['copy_number']\n",
    "X1 = da1[\"sequence\"]\n",
    "Y1 = da1['copy_number']\n",
    "X0 = pp.CountKmers(X0)\n",
    "X1 = pp.CountKmers(X1)"
   ]
  },
  {
   "cell_type": "code",
   "execution_count": 8,
   "id": "f64cf1ec-a4fc-45ca-b7a7-95ee6769325c",
   "metadata": {},
   "outputs": [],
   "source": [
    "pd.DataFrame(X0).to_csv(\"4.final_test/datasets/X_final_train.csv\",index=False)\n",
    "pd.DataFrame(Y0).to_csv(\"4.final_test/datasets/Y_final_train.csv\",index=False)\n",
    "pd.DataFrame(X1).to_csv(\"4.final_test/datasets/X_final_test.csv\",index=False)\n",
    "pd.DataFrame(Y1).to_csv(\"4.final_test/datasets/Y_final_test.csv\",index=False)"
   ]
  },
  {
   "cell_type": "code",
   "execution_count": null,
   "id": "d610ba9d-6a18-495d-9f13-b65c820dacce",
   "metadata": {},
   "outputs": [],
   "source": []
  }
 ],
 "metadata": {
  "kernelspec": {
   "display_name": "Python 3 (ipykernel)",
   "language": "python",
   "name": "python3"
  },
  "language_info": {
   "codemirror_mode": {
    "name": "ipython",
    "version": 3
   },
   "file_extension": ".py",
   "mimetype": "text/x-python",
   "name": "python",
   "nbconvert_exporter": "python",
   "pygments_lexer": "ipython3",
   "version": "3.8.10"
  }
 },
 "nbformat": 4,
 "nbformat_minor": 5
}
