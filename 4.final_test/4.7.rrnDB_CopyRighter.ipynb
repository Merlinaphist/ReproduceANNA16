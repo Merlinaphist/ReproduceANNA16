{
 "cells": [
  {
   "cell_type": "code",
   "execution_count": 1,
   "metadata": {},
   "outputs": [],
   "source": [
    "import pandas as pd\n",
    "import numpy as np\n",
    "from math import sqrt\n",
    "from sklearn.metrics import mean_squared_error\n",
    "from statistics import mean, stdev"
   ]
  },
  {
   "cell_type": "code",
   "execution_count": 2,
   "metadata": {},
   "outputs": [],
   "source": [
    "def test_rmse(model,X_test,Y_test):\n",
    "    test_preds = model.predict(X_test)\n",
    "    mse = mean_squared_error(Y_test, test_preds)\n",
    "    rmse = sqrt(mse)\n",
    "    return rmse"
   ]
  },
  {
   "cell_type": "code",
   "execution_count": 3,
   "metadata": {},
   "outputs": [],
   "source": [
    "filtered = pd.read_csv(\"datasets/full_length_testdata.filtered.csv\")"
   ]
  },
  {
   "cell_type": "markdown",
   "metadata": {},
   "source": [
    "### Simulation of CopyRighter"
   ]
  },
  {
   "cell_type": "code",
   "execution_count": 4,
   "metadata": {},
   "outputs": [],
   "source": [
    "class CopyRighterSimulator():\n",
    "    def __init__(self,CopyRighterData):\n",
    "        self.lib = {}\n",
    "        for line in CopyRighterData:\n",
    "            self.lib[line[0]] = line[1]\n",
    "\n",
    "    def predict(self,X):\n",
    "        pred = []\n",
    "        for line in X:\n",
    "            key=line\n",
    "            value = self.lib.get(key,\"N/A\")\n",
    "            taxalist = line.split(\";\")\n",
    "            while value == \"N/A\":\n",
    "                taxalist = taxalist[:-1]\n",
    "                if len(taxalist) == 0:\n",
    "                    value = 2.3539721350613916\n",
    "                else:\n",
    "                    key = self.combine(taxalist)\n",
    "                    value = self.lib.get(key,\"N/A\")\n",
    "            pred.append(value)\n",
    "        return pred\n",
    "                \n",
    "    def combine(self,taxalist):\n",
    "        string = \"\"\n",
    "        for element in taxalist:\n",
    "            string+=element\n",
    "            string+=\";\"\n",
    "        return string[:-1]"
   ]
  },
  {
   "cell_type": "code",
   "execution_count": 5,
   "metadata": {},
   "outputs": [],
   "source": [
    "data = pd.read_csv(\"datasets/copyrighterdata.txt\",sep=\"\\t\")\n",
    "raw_taxa = data[\"taxonomy\"].values.tolist()\n",
    "copy_number = data[\"16S rRNA count\"].values.tolist()\n",
    "CopyRighterData = []\n",
    "for i in range(0,len(raw_taxa)):\n",
    "    line = raw_taxa[i]\n",
    "    lineage = []\n",
    "    lineage.append(line.replace(\"; \",\";\"))\n",
    "    lineage.append(copy_number[i])\n",
    "    CopyRighterData.append(lineage)"
   ]
  },
  {
   "cell_type": "code",
   "execution_count": 6,
   "metadata": {},
   "outputs": [],
   "source": [
    "crs = CopyRighterSimulator(CopyRighterData)"
   ]
  },
  {
   "cell_type": "code",
   "execution_count": 7,
   "metadata": {},
   "outputs": [],
   "source": [
    "crs_performance = {}\n",
    "for region in [\"full_length\",\"V1-V2\",\"V1-V3\",\"V3-V4\",\"V4\",\"V4-V5\",\"V6-V8\",\"V7-V9\"]:\n",
    "    greengenetaxa = pd.read_csv(\"taxa/gg_\"+region+\"_testtaxa.csv\")\n",
    "    greengenetaxa = greengenetaxa.merge(filtered[[\"accession\"]],how=\"inner\",on = [\"accession\"])\n",
    "    greengenetaxa = greengenetaxa.dropna(subset=[\"copy_number\"])\n",
    "    ggX = greengenetaxa[['Kingdom', 'Phylum', 'Class', 'Order', 'Family', 'Genus', \"Species\"]]\n",
    "    ggY = greengenetaxa['copy_number']\n",
    "    newggX = []\n",
    "    for line in ggX.values.tolist():\n",
    "        lineage=\"\"\n",
    "        for element in line:\n",
    "            lineage+=str(element)\n",
    "            lineage+=\";\"\n",
    "        lineage=lineage[:-1]\n",
    "        newggX.append(lineage)\n",
    "    crs_performance[region] = test_rmse(crs,newggX,ggY)"
   ]
  },
  {
   "cell_type": "code",
   "execution_count": 8,
   "metadata": {},
   "outputs": [
    {
     "data": {
      "text/html": [
       "<div>\n",
       "<style scoped>\n",
       "    .dataframe tbody tr th:only-of-type {\n",
       "        vertical-align: middle;\n",
       "    }\n",
       "\n",
       "    .dataframe tbody tr th {\n",
       "        vertical-align: top;\n",
       "    }\n",
       "\n",
       "    .dataframe thead th {\n",
       "        text-align: right;\n",
       "    }\n",
       "</style>\n",
       "<table border=\"1\" class=\"dataframe\">\n",
       "  <thead>\n",
       "    <tr style=\"text-align: right;\">\n",
       "      <th></th>\n",
       "      <th>rmse</th>\n",
       "    </tr>\n",
       "  </thead>\n",
       "  <tbody>\n",
       "    <tr>\n",
       "      <th>full_length</th>\n",
       "      <td>1.993535</td>\n",
       "    </tr>\n",
       "    <tr>\n",
       "      <th>V1-V2</th>\n",
       "      <td>1.934433</td>\n",
       "    </tr>\n",
       "    <tr>\n",
       "      <th>V1-V3</th>\n",
       "      <td>1.988888</td>\n",
       "    </tr>\n",
       "    <tr>\n",
       "      <th>V3-V4</th>\n",
       "      <td>1.824587</td>\n",
       "    </tr>\n",
       "    <tr>\n",
       "      <th>V4</th>\n",
       "      <td>1.848500</td>\n",
       "    </tr>\n",
       "    <tr>\n",
       "      <th>V4-V5</th>\n",
       "      <td>1.821856</td>\n",
       "    </tr>\n",
       "    <tr>\n",
       "      <th>V6-V8</th>\n",
       "      <td>1.952332</td>\n",
       "    </tr>\n",
       "    <tr>\n",
       "      <th>V7-V9</th>\n",
       "      <td>2.180699</td>\n",
       "    </tr>\n",
       "  </tbody>\n",
       "</table>\n",
       "</div>"
      ],
      "text/plain": [
       "                 rmse\n",
       "full_length  1.993535\n",
       "V1-V2        1.934433\n",
       "V1-V3        1.988888\n",
       "V3-V4        1.824587\n",
       "V4           1.848500\n",
       "V4-V5        1.821856\n",
       "V6-V8        1.952332\n",
       "V7-V9        2.180699"
      ]
     },
     "execution_count": 8,
     "metadata": {},
     "output_type": "execute_result"
    }
   ],
   "source": [
    "pd.DataFrame(crs_performance,index=[\"rmse\"]).transpose()"
   ]
  },
  {
   "cell_type": "markdown",
   "metadata": {},
   "source": [
    "### Simulation of rrnDB"
   ]
  },
  {
   "cell_type": "code",
   "execution_count": 9,
   "metadata": {},
   "outputs": [],
   "source": [
    "class rrnDBSimulator():\n",
    "    def __init__(self,rrnDBData):\n",
    "        self.lib = {\"domain\":{},\"phylum\":{},\"class\":{},\"order\":{},\"family\":{},\"genus\":{}}\n",
    "        self.ranks = [\"domain\",\"phylum\",\"class\",\"order\",\"family\",\"genus\"]\n",
    "        for line in rrnDBData:\n",
    "            if line[0] in self.ranks:\n",
    "                self.lib[line[0]][line[1]] = line[2]\n",
    "        \n",
    "            \n",
    "    def predict(self,X):\n",
    "        pred = []\n",
    "        for line in X:\n",
    "            key=line\n",
    "            ranks = self.ranks\n",
    "            value = self.lib.get(ranks[-1],{}).get(key[-1],\"N/A\")\n",
    "            while value == \"N/A\":\n",
    "                ranks = ranks[:-1]\n",
    "                key = key[:-1]\n",
    "                if len(key) == 0:\n",
    "                    value = 2.3539721350613916\n",
    "                else:\n",
    "                    value = self.lib.get(ranks[-1],{}).get(key[-1],\"N/A\")\n",
    "            pred.append(value)\n",
    "        return pred"
   ]
  },
  {
   "cell_type": "code",
   "execution_count": 10,
   "metadata": {},
   "outputs": [],
   "source": [
    "rrnDBData = pd.read_csv(\"datasets/rrnDB_pan-taxa stats_RDP.csv\")\n",
    "rrnDBData = rrnDBData.values.tolist()"
   ]
  },
  {
   "cell_type": "code",
   "execution_count": 11,
   "metadata": {},
   "outputs": [],
   "source": [
    "rds = rrnDBSimulator(rrnDBData)"
   ]
  },
  {
   "cell_type": "code",
   "execution_count": 12,
   "metadata": {},
   "outputs": [],
   "source": [
    "rds_performance = {}\n",
    "for region in [\"full_length\",\"V1-V2\",\"V1-V3\",\"V3-V4\",\"V4\",\"V4-V5\",\"V6-V8\",\"V7-V9\"]:\n",
    "    rdptaxa = pd.read_csv(\"taxa/rdp_\"+region+\"_testtaxa.csv\")\n",
    "    rdptaxa = rdptaxa.merge(filtered[[\"accession\"]],how=\"inner\",on = [\"accession\"])\n",
    "    rdptaxa = rdptaxa.dropna(subset=[\"copy_number\"])\n",
    "    ggX = rdptaxa[['Kingdom', 'Phylum', 'Class', 'Order', 'Family', 'Genus']]\n",
    "    ggY = rdptaxa['copy_number']\n",
    "    rds_performance[region] = test_rmse(rds,ggX.values.tolist(),ggY.tolist())"
   ]
  },
  {
   "cell_type": "code",
   "execution_count": 13,
   "metadata": {},
   "outputs": [
    {
     "data": {
      "text/html": [
       "<div>\n",
       "<style scoped>\n",
       "    .dataframe tbody tr th:only-of-type {\n",
       "        vertical-align: middle;\n",
       "    }\n",
       "\n",
       "    .dataframe tbody tr th {\n",
       "        vertical-align: top;\n",
       "    }\n",
       "\n",
       "    .dataframe thead th {\n",
       "        text-align: right;\n",
       "    }\n",
       "</style>\n",
       "<table border=\"1\" class=\"dataframe\">\n",
       "  <thead>\n",
       "    <tr style=\"text-align: right;\">\n",
       "      <th></th>\n",
       "      <th>rmse</th>\n",
       "    </tr>\n",
       "  </thead>\n",
       "  <tbody>\n",
       "    <tr>\n",
       "      <th>full_length</th>\n",
       "      <td>1.082905</td>\n",
       "    </tr>\n",
       "    <tr>\n",
       "      <th>V1-V2</th>\n",
       "      <td>1.093868</td>\n",
       "    </tr>\n",
       "    <tr>\n",
       "      <th>V1-V3</th>\n",
       "      <td>1.081651</td>\n",
       "    </tr>\n",
       "    <tr>\n",
       "      <th>V3-V4</th>\n",
       "      <td>1.100793</td>\n",
       "    </tr>\n",
       "    <tr>\n",
       "      <th>V4</th>\n",
       "      <td>1.206523</td>\n",
       "    </tr>\n",
       "    <tr>\n",
       "      <th>V4-V5</th>\n",
       "      <td>1.078959</td>\n",
       "    </tr>\n",
       "    <tr>\n",
       "      <th>V6-V8</th>\n",
       "      <td>1.108867</td>\n",
       "    </tr>\n",
       "    <tr>\n",
       "      <th>V7-V9</th>\n",
       "      <td>1.109841</td>\n",
       "    </tr>\n",
       "  </tbody>\n",
       "</table>\n",
       "</div>"
      ],
      "text/plain": [
       "                 rmse\n",
       "full_length  1.082905\n",
       "V1-V2        1.093868\n",
       "V1-V3        1.081651\n",
       "V3-V4        1.100793\n",
       "V4           1.206523\n",
       "V4-V5        1.078959\n",
       "V6-V8        1.108867\n",
       "V7-V9        1.109841"
      ]
     },
     "execution_count": 13,
     "metadata": {},
     "output_type": "execute_result"
    }
   ],
   "source": [
    "pd.DataFrame(rds_performance,index=[\"rmse\"]).transpose()"
   ]
  },
  {
   "cell_type": "code",
   "execution_count": 14,
   "metadata": {},
   "outputs": [],
   "source": [
    "pd.concat([pd.DataFrame(crs_performance,index=[\"CopyRighter\"]).transpose(),\n",
    "pd.DataFrame(rds_performance,index=[\"rrnDB\"]).transpose()],axis = 1).to_csv(\"performance/cprt_rrndb.csv\")"
   ]
  },
  {
   "cell_type": "code",
   "execution_count": null,
   "metadata": {},
   "outputs": [],
   "source": []
  }
 ],
 "metadata": {
  "kernelspec": {
   "display_name": "Python 3",
   "language": "python",
   "name": "python3"
  },
  "language_info": {
   "codemirror_mode": {
    "name": "ipython",
    "version": 3
   },
   "file_extension": ".py",
   "mimetype": "text/x-python",
   "name": "python",
   "nbconvert_exporter": "python",
   "pygments_lexer": "ipython3",
   "version": "3.8.5"
  }
 },
 "nbformat": 4,
 "nbformat_minor": 4
}
