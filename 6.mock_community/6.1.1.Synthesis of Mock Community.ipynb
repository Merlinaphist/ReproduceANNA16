{
 "cells": [
  {
   "cell_type": "code",
   "execution_count": 1,
   "metadata": {},
   "outputs": [],
   "source": [
    "import pandas as pd\n",
    "import numpy as np\n",
    "import warnings\n",
    "warnings.filterwarnings(\"ignore\")"
   ]
  },
  {
   "cell_type": "code",
   "execution_count": 2,
   "metadata": {},
   "outputs": [],
   "source": [
    "even = pd.read_csv(\"community_composition/even community.csv\")\n",
    "staggered = pd.read_csv(\"community_composition/staggered community.csv\")"
   ]
  },
  {
   "cell_type": "code",
   "execution_count": 3,
   "metadata": {},
   "outputs": [],
   "source": [
    "def read_fasta(filename):\n",
    "    file_handle = open(filename,\"r\")\n",
    "    seq = []\n",
    "    seqid = []\n",
    "    tmp_seq = \"\"\n",
    "    for line in file_handle:\n",
    "        if (line[0] == \">\"):\n",
    "            if tmp_seq != \"\":\n",
    "                seq.append(tmp_seq)\n",
    "            seqid.append(line.split(\"\\n\")[0][1:])\n",
    "            tmp_seq = \"\"\n",
    "        else:\n",
    "            tmp_seq+=line.split(\"\\n\")[0]\n",
    "    seq.append(tmp_seq)\n",
    "    file_handle.close()\n",
    "    new_seqid = []\n",
    "    for sid in seqid:\n",
    "        newid = sid.split(\"|\")[1]\n",
    "        new_seqid.append(newid)\n",
    "    da = pd.DataFrame([new_seqid,seq],index = [\"GenBank ID\",\"sequence\"]).transpose()\n",
    "    return da"
   ]
  },
  {
   "cell_type": "code",
   "execution_count": 4,
   "metadata": {},
   "outputs": [],
   "source": [
    "fwd = read_fasta(\"genomes/strain_fwd_16S.fasta\")\n",
    "rev = read_fasta(\"genomes/strain_rev_16S.fasta\")"
   ]
  },
  {
   "cell_type": "code",
   "execution_count": 5,
   "metadata": {},
   "outputs": [],
   "source": [
    "from Bio.Seq import Seq\n",
    "rc = []\n",
    "for seq in rev[\"sequence\"].tolist():\n",
    "    seq = str(seq)\n",
    "    seq = Seq(seq)\n",
    "    seqrc = str(seq.reverse_complement())\n",
    "    rc.append(seqrc)\n",
    "rev_rc = pd.DataFrame([rev[\"GenBank ID\"].tolist(),rc],index = [\"GenBank ID\",\"sequence\"]).transpose()"
   ]
  },
  {
   "cell_type": "code",
   "execution_count": 6,
   "metadata": {},
   "outputs": [],
   "source": [
    "strain_16S = fwd.merge(rev_rc,how=\"outer\").drop_duplicates(subset=\"GenBank ID\")\n",
    "del fwd\n",
    "del rev"
   ]
  },
  {
   "cell_type": "code",
   "execution_count": 7,
   "metadata": {},
   "outputs": [],
   "source": [
    "file = open(\"genomes/mock_full_length.fasta\",\"w\")\n",
    "for i in range(0,10):\n",
    "    file.write(\">\"+str(strain_16S.iloc[i,0])+\"\\n\")\n",
    "    file.write(str(strain_16S.iloc[i,1])+\"\\n\")\n",
    "file.close()"
   ]
  },
  {
   "cell_type": "code",
   "execution_count": 8,
   "metadata": {},
   "outputs": [],
   "source": [
    "even = even.merge(strain_16S,how=\"outer\",on=\"GenBank ID\")\n",
    "staggered = staggered.merge(strain_16S,how=\"outer\",on=\"GenBank ID\")"
   ]
  },
  {
   "cell_type": "code",
   "execution_count": null,
   "metadata": {},
   "outputs": [],
   "source": [
    "from anna16 import Preprocessing, CopyNumberPredictor"
   ]
  },
  {
   "cell_type": "code",
   "execution_count": 12,
   "metadata": {},
   "outputs": [],
   "source": [
    "anna16_pred = {}\n",
    "X = even[\"sequence\"]\n",
    "pp = Preprocessing()\n",
    "X = pp.CountKmers(seqs = X)\n",
    "model = CopyNumberPredictor(region = \"full_length\")\n",
    "model.load(\"deployment/full_length.zip\")\n",
    "anna16_pred[\"full-length\"] = model.predict(X)\n",
    "anna16_fl = pd.DataFrame(anna16_pred[\"full-length\"],columns = [\"anna16_pred\"])\n",
    "even = pd.concat([even,anna16_fl],axis = 1)\n",
    "staggered = pd.concat([staggered,anna16_fl],axis = 1)"
   ]
  },
  {
   "cell_type": "code",
   "execution_count": 13,
   "metadata": {},
   "outputs": [],
   "source": [
    "even.to_csv(\"processed/even.csv\",index=False)\n",
    "staggered.to_csv(\"processed/staggered.csv\",index=False)"
   ]
  },
  {
   "cell_type": "code",
   "execution_count": 14,
   "metadata": {},
   "outputs": [],
   "source": [
    "def read_subregion_fasta(region):\n",
    "    file_handle = open(\"genomes/\"+region+\".fasta\",\"r\")\n",
    "    seq = []\n",
    "    seqid = []\n",
    "    tmp_seq = \"\"\n",
    "    for line in file_handle:\n",
    "        if (line[0] == \">\"):\n",
    "            if tmp_seq != \"\":\n",
    "                seq.append(tmp_seq)\n",
    "            seqid.append(line.split(\"\\n\")[0][1:])\n",
    "            tmp_seq = \"\"\n",
    "        else:\n",
    "            tmp_seq+=line.split(\"\\n\")[0]\n",
    "    seq.append(tmp_seq)\n",
    "    file_handle.close()\n",
    "    da = pd.DataFrame([seqid,seq],index = [\"GenBank ID\",region]).transpose()\n",
    "    return da"
   ]
  },
  {
   "cell_type": "code",
   "execution_count": 15,
   "metadata": {},
   "outputs": [
    {
     "name": "stdout",
     "output_type": "stream",
     "text": [
      "WARNING:tensorflow:5 out of the last 5 calls to <function Model.make_predict_function.<locals>.predict_function at 0x7fbeaff8b430> triggered tf.function retracing. Tracing is expensive and the excessive number of tracings could be due to (1) creating @tf.function repeatedly in a loop, (2) passing tensors with different shapes, (3) passing Python objects instead of tensors. For (1), please define your @tf.function outside of the loop. For (2), @tf.function has experimental_relax_shapes=True option that relaxes argument shapes that can avoid unnecessary retracing. For (3), please refer to https://www.tensorflow.org/guide/function#controlling_retracing and https://www.tensorflow.org/api_docs/python/tf/function for  more details.\n",
      "WARNING:tensorflow:6 out of the last 6 calls to <function Model.make_predict_function.<locals>.predict_function at 0x7fbeaff8bca0> triggered tf.function retracing. Tracing is expensive and the excessive number of tracings could be due to (1) creating @tf.function repeatedly in a loop, (2) passing tensors with different shapes, (3) passing Python objects instead of tensors. For (1), please define your @tf.function outside of the loop. For (2), @tf.function has experimental_relax_shapes=True option that relaxes argument shapes that can avoid unnecessary retracing. For (3), please refer to https://www.tensorflow.org/guide/function#controlling_retracing and https://www.tensorflow.org/api_docs/python/tf/function for  more details.\n"
     ]
    }
   ],
   "source": [
    "for region in [\"V1-V2\",\"V1-V3\",\"V3-V4\",\"V4\",\"V4-V5\",\"V6-V8\",\"V7-V9\"]:\n",
    "    da = read_subregion_fasta(region)\n",
    "    da = even.merge(da,how=\"left\",on = \"GenBank ID\")\n",
    "    X = da[region]\n",
    "    X = pp.CountKmers(seqs=X)\n",
    "    model = CopyNumberPredictor(region = region)\n",
    "    model.load(\"deployment/\"+region+\".zip\")\n",
    "    anna16_pred[region] = model.predict(X)"
   ]
  },
  {
   "cell_type": "code",
   "execution_count": 16,
   "metadata": {},
   "outputs": [],
   "source": [
    "anna16_preds = pd.DataFrame(anna16_pred[\"full-length\"],columns = [\"full-length\"])\n",
    "for region in [\"V1-V2\",\"V1-V3\",\"V3-V4\",\"V4\",\"V4-V5\",\"V6-V8\",\"V7-V9\"]:\n",
    "    anna16_preds = pd.concat([anna16_preds,pd.DataFrame(anna16_pred[region],columns = [region])],axis = 1)"
   ]
  },
  {
   "cell_type": "code",
   "execution_count": 17,
   "metadata": {},
   "outputs": [],
   "source": [
    "anna16_preds.to_csv(\"products/anna16_pred.csv\",index=False)"
   ]
  },
  {
   "cell_type": "code",
   "execution_count": null,
   "metadata": {},
   "outputs": [],
   "source": []
  }
 ],
 "metadata": {
  "kernelspec": {
   "display_name": "Python 3",
   "language": "python",
   "name": "python3"
  },
  "language_info": {
   "codemirror_mode": {
    "name": "ipython",
    "version": 3
   },
   "file_extension": ".py",
   "mimetype": "text/x-python",
   "name": "python",
   "nbconvert_exporter": "python",
   "pygments_lexer": "ipython3",
   "version": "3.8.5"
  }
 },
 "nbformat": 4,
 "nbformat_minor": 4
}
